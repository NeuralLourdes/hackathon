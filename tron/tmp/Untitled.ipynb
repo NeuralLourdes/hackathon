{
 "cells": [
  {
   "cell_type": "code",
   "execution_count": null,
   "metadata": {},
   "outputs": [],
   "source": [
    "import numpy as np\n",
    "theta = np.deg2rad(180)\n",
    "c, s = np.cos(theta), np.sin(theta)\n",
    "R = np.matrix('{} {}; {} {}'.format(c, -s, s, c))\n",
    "print(R)"
   ]
  }
 ],
 "metadata": {
  "language_info": {
   "name": "python",
   "pygments_lexer": "ipython3"
  }
 },
 "nbformat": 4,
 "nbformat_minor": 2
}
