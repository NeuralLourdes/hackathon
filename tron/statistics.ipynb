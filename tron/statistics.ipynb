{
 "cells": [
  {
   "cell_type": "code",
   "execution_count": null,
   "metadata": {},
   "outputs": [],
   "source": [
    "%load_ext autoreload\n",
    "%autoreload 2\n",
    "\n",
    "%matplotlib inline"
   ]
  },
  {
   "cell_type": "code",
   "execution_count": null,
   "metadata": {},
   "outputs": [],
   "source": [
    "from utils import replay_helper\n",
    "replays = list(replay_helper.get_all_replays('replays'))"
   ]
  },
  {
   "cell_type": "code",
   "execution_count": null,
   "metadata": {},
   "outputs": [],
   "source": [
    "import collections\n",
    "import pandas as pd\n",
    "import shutil\n",
    "import os\n",
    "\n",
    "data = collections.defaultdict(lambda: [])\n",
    "for replay_filename, replay in replays:\n",
    "    strategies = replay.info['strategies']\n",
    "    data['filename'].append(replay_filename)\n",
    "    data['strategy_1'].append(strategies[0])\n",
    "    data['strategy_2'].append(strategies[1])\n",
    "    data['ticks'].append(len(replay.game_field))\n",
    "    data['player_1_lost'].append(replay.player_lost[0])\n",
    "    data['player_2_lost'].append(replay.player_lost[0])\n",
    "    folder = 'replays/{}_vs_{}'.format(*strategies)\n",
    "    \n",
    "\n",
    "    filename = '{}/{}'.format(folder, replay_filename.split('/')[-1])\n",
    "    if not os.path.exists(folder):\n",
    "        os.makedirs(folder)\n",
    "    shutil.copy(replay_filename, filename)"
   ]
  },
  {
   "cell_type": "code",
   "execution_count": null,
   "metadata": {},
   "outputs": [],
   "source": [
    "df = pd.DataFrame(data)\n",
    "\n",
    "df['both_strategies'] = df.strategy_1 + ' vs. ' + df.strategy_2\n",
    "df"
   ]
  },
  {
   "cell_type": "code",
   "execution_count": null,
   "metadata": {},
   "outputs": [],
   "source": [
    "import matplotlib.pyplot as plt\n",
    "\n",
    "lim = (0, 700)\n",
    "\n",
    "for strategy, df_ in df.groupby('strategy_1'):\n",
    "    fig, ax = plt.subplots(figsize = (15, 8))\n",
    "    num_games = len(df_)\n",
    "    df_.ticks.plot(kind = 'hist', bins = 50, logy = True, ax = ax, title = 'Strategy: {}\\n(#games: {})'.format(strategy, num_games))\n",
    "    ax.set_xlim(lim)"
   ]
  },
  {
   "cell_type": "code",
   "execution_count": null,
   "metadata": {},
   "outputs": [],
   "source": []
  }
 ],
 "metadata": {
  "language_info": {
   "name": "python",
   "pygments_lexer": "ipython3"
  }
 },
 "nbformat": 4,
 "nbformat_minor": 2
}
